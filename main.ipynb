!pip install pydub
from pydub import AudioSegment
from pydub.generators import Sine
from pydub.playback import play
from google.colab import files
import time

# ビープ音のパラメータ
beep_duration = 1000  # ミリ秒単位でビープ音の長さを指定
beep_freq = 3000  # ビープ音の周波数を指定（より高い周波数でより強力なビープ音を生成）

# 間隔のパラメータ
interval_seconds = 5  # 間隔の秒数を指定（0は間隔なしでずっと）

# ビープ音を格納するリスト
beeps = []

# 無限ループでビープ音と間隔を生成
try:
    while True:
        # ビープ音を生成し、リストに追加
        beep = Sine(beep_freq).to_audio_segment(duration=beep_duration)
        beeps.append(beep)

        # 指定された間隔を待つ
        if interval_seconds > 0:
            time.sleep(interval_seconds)
except KeyboardInterrupt:
    print("ビープ音の生成を終了します。")

# ビープ音のリストを連結
final_audio = sum(beeps)

# ファイルに保存
output_filename = "/content/beep_sequence.mp3"
final_audio.export(output_filename, format="mp3")

print(f"ビープ音のシーケンスを {output_filename} に保存しました。")

# ダウンロードリンクを提供
files.download(output_filename)
