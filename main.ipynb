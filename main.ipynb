!pip install pydub
from pydub import AudioSegment
from pydub.generators import Sine
from google.colab import files

# ビープ音を生成
beep_duration = 10000  # ミリ秒単位でビープ音の長さを指定
beep_freq = 500  # ビープ音の周波数を指定
beep = Sine(beep_freq).to_audio_segment(duration=beep_duration)

# ビープ音をMP3ファイルとして保存
output_filename = "/content/beep.mp3"  # 保存するファイル名を指定
beep.export(output_filename, format="mp3")

print(f"ビープ音を {output_filename} に保存しました。")

# ダウンロードリンクを表示してユーザーにダウンロードさせる
files.download(output_filename)
